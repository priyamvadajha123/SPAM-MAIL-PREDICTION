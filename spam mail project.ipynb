{
 "cells": [
  {
   "cell_type": "code",
   "execution_count": 1,
   "metadata": {},
   "outputs": [
    {
     "name": "stdout",
     "output_type": "stream",
     "text": [
      "SMS Spam Collection v.1\n",
      "-------------------------\n",
      "\n",
      "1. DESCRIPTION\n",
      "--------------\n",
      "\n",
      "The SMS Spam Collection v.1 (hereafter the corpus) is a set of SMS tagged messages that have been collected for SMS Spam research. It contains one set of SMS messages in English of 5,574 messages, tagged acording being ham (legitimate) or spam. \n",
      "\n",
      "1.1. Compilation\n",
      "----------------\n",
      "\n",
      "This corpus has been collected from free or free for research sources at the Web:\n",
      "\n",
      "- A collection of between 425 SMS spam messages extracted manually from the Grumbletext Web site. This is a UK forum in which cell phone users make public claims about SMS spam messages, most of them without reporting the very spam message received. The identification of the text of spam messages in the claims is a very hard and time-consuming task, and it involved carefully scanning hundreds of web pages. The Grumbletext Web site is: http://www.grumbletext.co.uk/\n",
      "- A list of 450 SMS ham messages collected from Caroline Tag's PhD Theses available at http://etheses.bham.ac.uk/253/1/Tagg09PhD.pdf\n",
      "- A subset of 3,375 SMS ham messages of the NUS SMS Corpus (NSC), which is a corpus of about 10,000 legitimate messages collected for research at the Department of Computer Science at the National University of Singapore. The messages largely originate from Singaporeans and mostly from students attending the University. These messages were collected from volunteers who were made aware that their contributions were going to be made publicly available. The NUS SMS Corpus is avalaible at: http://www.comp.nus.edu.sg/~rpnlpir/downloads/corpora/smsCorpus/\n",
      "- The amount of 1,002 SMS ham messages and 322 spam messages extracted from the SMS Spam Corpus v.0.1 Big created by José María Gómez Hidalgo and public available at: http://www.esp.uem.es/jmgomez/smsspamcorpus/\n",
      "\n",
      "\n",
      "1.2. Statistics\n",
      "---------------\n",
      "\n",
      "There is one collection:\n",
      "\n",
      "- The SMS Spam Collection v.1 (text file: smsspamcollection) has a total of 4,827 SMS legitimate messages (86.6%) and a total of 747 (13.4%) spam messages.\n",
      "\n",
      "\n",
      "1.3. Format\n",
      "-----------\n",
      "\n",
      "The files contain one message per line. Each line is composed by two columns: one with label (ham or spam) and other with the raw text. Here are some examples:\n",
      "\n",
      "ham   What you doing?how are you?\n",
      "ham   Ok lar... Joking wif u oni...\n",
      "ham   dun say so early hor... U c already then say...\n",
      "ham   MY NO. IN LUTON 0125698789 RING ME IF UR AROUND! H*\n",
      "ham   Siva is in hostel aha:-.\n",
      "ham   Cos i was out shopping wif darren jus now n i called him 2 ask wat present he wan lor. Then he started guessing who i was wif n he finally guessed darren lor.\n",
      "spam   FreeMsg: Txt: CALL to No: 86888 & claim your reward of 3 hours talk time to use from your phone now! ubscribe6GBP/ mnth inc 3hrs 16 stop?txtStop\n",
      "spam   Sunshine Quiz! Win a super Sony DVD recorder if you canname the capital of Australia? Text MQUIZ to 82277. B\n",
      "spam   URGENT! Your Mobile No 07808726822 was awarded a L2,000 Bonus Caller Prize on 02/09/03! This is our 2nd attempt to contact YOU! Call 0871-872-9758 BOX95QU\n",
      "\n",
      "Note: messages are not chronologically sorted.\n",
      "\n",
      "\n",
      "2. USAGE\n",
      "--------\n",
      "\n",
      "We offer a comprehensive study of this corpus in the following paper that is under review. This work presents a number of statistics, studies and baseline results for several machine learning methods.\n",
      "\n",
      "[1] Almeida, T.A., Gómez Hidalgo, J.M., Yamakami, A. Contributions to the study of SMS Spam Filtering: New Collection and Results. Proceedings of the 2011 ACM Symposium on Document Engineering (ACM DOCENG'11), Mountain View, CA, USA, 2011. (Under review)\n",
      "\n",
      "\n",
      "3. ABOUT\n",
      "--------\n",
      "\n",
      "The corpus has been collected by Tiago Agostinho de Almeida (http://www.dt.fee.unicamp.br/~tiago) and José María Gómez Hidalgo (http://www.esp.uem.es/jmgomez).\n",
      "\n",
      "We would like to thank Dr. Min-Yen Kan (http://www.comp.nus.edu.sg/~kanmy/) and his team for making the NUS SMS Corpus available. See: http://www.comp.nus.edu.sg/~rpnlpir/downloads/corpora/smsCorpus/. He is currently collecting a bigger SMS corpus at: http://wing.comp.nus.edu.sg:8080/SMSCorpus/\n",
      "\n",
      "4. LICENSE/DISCLAIMER\n",
      "---------------------\n",
      "\n",
      "We would appreciate if:\n",
      "\n",
      "- In case you find this corpus useful, please make a reference to previous paper and the web page: http://www.dt.fee.unicamp.br/~tiago/smsspamcollection/ in your papers, research, etc.\n",
      "- Send us a message to tiago@dt.fee.unicamp.br in case you make use of the corpus.\n",
      "\n",
      "The SMS Spam Collection v.1 is provided for free and with no limitations excepting:\n",
      "\n",
      "1. Tiago Agostinho de Almeida and José María Gómez Hidalgo hold the copyrigth (c) for the SMS Spam Collection v.1.\n",
      "\n",
      "2. No Warranty/Use At Your Risk. THE CORPUS IS MADE AT NO CHARGE. ACCORDINGLY, THE CORPUS IS PROVIDED `AS IS,' WITHOUT WARRANTY OF ANY KIND, INCLUDING WITHOUT LIMITATION THE WARRANTIES THAT THEY ARE MERCHANTABLE, FIT FOR A PARTICULAR PURPOSE OR NON-INFRINGING. YOU ARE SOLELY RESPONSIBLE FOR YOUR USE, DISTRIBUTION, MODIFICATION, REPRODUCTION AND PUBLICATION OF THE CORPUS AND ANY DERIVATIVE WORKS THEREOF BY YOU AND ANY OF YOUR SUBLICENSEES (COLLECTIVELY, `YOUR CORPUS USE'). THE ENTIRE RISK AS TO YOUR CORPUS USE IS BORNE BY YOU. YOU AGREE TO INDEMNIFY AND HOLD THE COPYRIGHT HOLDERS, AND THEIR AFFILIATES HARMLESS FROM ANY CLAIMS ARISING FROM OR RELATING TO YOUR CORPUS USE.\n",
      "\n",
      "3. Limitation of Liability. IN NO EVENT SHALL THE COPYRIGHT HOLDERS OR THEIR AFFILIATES, OR THE CORPUS CONTRIBUTING EDITORS, BE LIABLE FOR ANY INDIRECT, SPECIAL, INCIDENTAL OR CONSEQUENTIAL DAMAGES, INCLUDING, WITHOUT LIMITATION, DAMAGES FOR LOSS OF GOODWILL OR ANY AND ALL OTHER COMMERCIAL DAMAGES OR LOSSES, EVEN IF ADVISED OF THE POSSIBILITY THEREOF, AND REGARDLESS OF WHETHER ANY CLAIM IS BASED UPON ANY CONTRACT, TORT OR OTHER LEGAL OR EQUITABLE THEORY, RELATING OR ARISING FROM THE CORPUS, YOUR CORPUS USE OR THIS LICENSE AGREEMENT.\n"
     ]
    }
   ],
   "source": [
    "!type readme"
   ]
  },
  {
   "cell_type": "code",
   "execution_count": 2,
   "metadata": {},
   "outputs": [
    {
     "name": "stderr",
     "output_type": "stream",
     "text": [
      "'head' is not recognized as an internal or external command,\n",
      "operable program or batch file.\n"
     ]
    }
   ],
   "source": [
    "!head SMSSpamCollection"
   ]
  },
  {
   "cell_type": "code",
   "execution_count": 3,
   "metadata": {},
   "outputs": [],
   "source": [
    "import pandas as pd"
   ]
  },
  {
   "cell_type": "code",
   "execution_count": 4,
   "metadata": {},
   "outputs": [],
   "source": [
    "df = pd.read_csv('SMSSpamCollection', sep='\\t', header=None, names=['class', 'message'])"
   ]
  },
  {
   "cell_type": "code",
   "execution_count": 5,
   "metadata": {},
   "outputs": [
    {
     "data": {
      "text/plain": [
       "(5572, 2)"
      ]
     },
     "execution_count": 5,
     "metadata": {},
     "output_type": "execute_result"
    }
   ],
   "source": [
    "df.shape"
   ]
  },
  {
   "cell_type": "code",
   "execution_count": 6,
   "metadata": {},
   "outputs": [
    {
     "data": {
      "text/html": [
       "<div>\n",
       "<style scoped>\n",
       "    .dataframe tbody tr th:only-of-type {\n",
       "        vertical-align: middle;\n",
       "    }\n",
       "\n",
       "    .dataframe tbody tr th {\n",
       "        vertical-align: top;\n",
       "    }\n",
       "\n",
       "    .dataframe thead th {\n",
       "        text-align: right;\n",
       "    }\n",
       "</style>\n",
       "<table border=\"1\" class=\"dataframe\">\n",
       "  <thead>\n",
       "    <tr style=\"text-align: right;\">\n",
       "      <th></th>\n",
       "      <th>class</th>\n",
       "      <th>message</th>\n",
       "    </tr>\n",
       "  </thead>\n",
       "  <tbody>\n",
       "    <tr>\n",
       "      <th>0</th>\n",
       "      <td>ham</td>\n",
       "      <td>Go until jurong point, crazy.. Available only ...</td>\n",
       "    </tr>\n",
       "    <tr>\n",
       "      <th>1</th>\n",
       "      <td>ham</td>\n",
       "      <td>Ok lar... Joking wif u oni...</td>\n",
       "    </tr>\n",
       "    <tr>\n",
       "      <th>2</th>\n",
       "      <td>spam</td>\n",
       "      <td>Free entry in 2 a wkly comp to win FA Cup fina...</td>\n",
       "    </tr>\n",
       "    <tr>\n",
       "      <th>3</th>\n",
       "      <td>ham</td>\n",
       "      <td>U dun say so early hor... U c already then say...</td>\n",
       "    </tr>\n",
       "    <tr>\n",
       "      <th>4</th>\n",
       "      <td>ham</td>\n",
       "      <td>Nah I don't think he goes to usf, he lives aro...</td>\n",
       "    </tr>\n",
       "  </tbody>\n",
       "</table>\n",
       "</div>"
      ],
      "text/plain": [
       "  class                                            message\n",
       "0   ham  Go until jurong point, crazy.. Available only ...\n",
       "1   ham                      Ok lar... Joking wif u oni...\n",
       "2  spam  Free entry in 2 a wkly comp to win FA Cup fina...\n",
       "3   ham  U dun say so early hor... U c already then say...\n",
       "4   ham  Nah I don't think he goes to usf, he lives aro..."
      ]
     },
     "execution_count": 6,
     "metadata": {},
     "output_type": "execute_result"
    }
   ],
   "source": [
    "df.head()"
   ]
  },
  {
   "cell_type": "code",
   "execution_count": 7,
   "metadata": {},
   "outputs": [],
   "source": [
    "target = df['class']"
   ]
  },
  {
   "cell_type": "code",
   "execution_count": 8,
   "metadata": {},
   "outputs": [
    {
     "data": {
      "text/plain": [
       "0     ham\n",
       "1     ham\n",
       "2    spam\n",
       "3     ham\n",
       "4     ham\n",
       "Name: class, dtype: object"
      ]
     },
     "execution_count": 8,
     "metadata": {},
     "output_type": "execute_result"
    }
   ],
   "source": [
    "target.head()"
   ]
  },
  {
   "cell_type": "code",
   "execution_count": 9,
   "metadata": {},
   "outputs": [
    {
     "data": {
      "text/plain": [
       "array(['ham', 'spam'], dtype=object)"
      ]
     },
     "execution_count": 9,
     "metadata": {},
     "output_type": "execute_result"
    }
   ],
   "source": [
    "target.unique()"
   ]
  },
  {
   "cell_type": "code",
   "execution_count": 10,
   "metadata": {},
   "outputs": [
    {
     "data": {
      "text/plain": [
       "ham     4825\n",
       "spam     747\n",
       "Name: class, dtype: int64"
      ]
     },
     "execution_count": 10,
     "metadata": {},
     "output_type": "execute_result"
    }
   ],
   "source": [
    "target.value_counts()"
   ]
  },
  {
   "cell_type": "code",
   "execution_count": 11,
   "metadata": {},
   "outputs": [],
   "source": [
    "import matplotlib.pyplot as plt"
   ]
  },
  {
   "cell_type": "code",
   "execution_count": 12,
   "metadata": {},
   "outputs": [
    {
     "data": {
      "image/png": "[encoded data removed]",
      "text/plain": [
       "<Figure size 432x288 with 1 Axes>"
      ]
     },
     "metadata": {
      "needs_background": "light"
     },
     "output_type": "display_data"
    }
   ],
   "source": [
    "target.value_counts().plot(kind='bar')\n",
    "plt.show()"
   ]
  },
  {
   "cell_type": "code",
   "execution_count": 13,
   "metadata": {},
   "outputs": [],
   "source": [
    "features = df['message'].values.tolist()"
   ]
  },
  {
   "cell_type": "code",
   "execution_count": 14,
   "metadata": {},
   "outputs": [
    {
     "data": {
      "text/plain": [
       "5572"
      ]
     },
     "execution_count": 14,
     "metadata": {},
     "output_type": "execute_result"
    }
   ],
   "source": [
    "len(features)"
   ]
  },
  {
   "cell_type": "code",
   "execution_count": 15,
   "metadata": {},
   "outputs": [
    {
     "data": {
      "text/plain": [
       "['Go until jurong point, crazy.. Available only in bugis n great world la e buffet... Cine there got amore wat...',\n",
       " 'Ok lar... Joking wif u oni...',\n",
       " \"Free entry in 2 a wkly comp to win FA Cup final tkts 21st May 2005. Text FA to 87121 to receive entry question(std txt rate)T&C's apply 08452810075over18's\",\n",
       " 'U dun say so early hor... U c already then say...',\n",
       " \"Nah I don't think he goes to usf, he lives around here though\"]"
      ]
     },
     "execution_count": 15,
     "metadata": {},
     "output_type": "execute_result"
    }
   ],
   "source": [
    "features[:5]\n"
   ]
  },
  {
   "cell_type": "code",
   "execution_count": 16,
   "metadata": {},
   "outputs": [],
   "source": [
    "from sklearn.feature_extraction.text import CountVectorizer\n",
    "from nltk.corpus import stopwords\n",
    "import string"
   ]
  },
  {
   "cell_type": "code",
   "execution_count": 17,
   "metadata": {},
   "outputs": [],
   "source": [
    "punctuation = string.punctuation"
   ]
  },
  {
   "cell_type": "code",
   "execution_count": 21,
   "metadata": {},
   "outputs": [],
   "source": [
    "total_words = []\n",
    "def stop_word_remove(corpus, custom_stopwords=False):\n",
    "    \"\"\"\n",
    "        This function just iterate all documents from corpus and convert them into lowercase letters for case insensitivity\n",
    "        and also removes all stop words for documents\n",
    "    \"\"\"\n",
    "    if custom_stopwords:\n",
    "        stop_words = custom_stopwords\n",
    "    else:\n",
    "        stop_words = stopwords.words('english')\n",
    "    stop_words.extend(['u', '2', 'im', 'ur', 'dont', '4', 'r', 'n', 'lol', 'lor', 'call', 'ok' ])\n",
    "    processed_documents = []\n",
    "    for each_document in corpus:\n",
    "        each_document = each_document.strip().lower().split()\n",
    "        words = []\n",
    "        for word in each_document:\n",
    "            word = word.strip().lower()\n",
    "            new_word = []\n",
    "            for char in word:\n",
    "                if char not in punctuation and ord(char) < 130:\n",
    "                    new_word.append(char)\n",
    "            word = ''.join(new_word)\n",
    "            if word  not in stop_words:\n",
    "                words.append(word)\n",
    "                total_words.append(word)\n",
    "        processed_documents.append(' '.join(words))\n",
    "    return processed_documents\n"
   ]
  },
  {
   "cell_type": "code",
   "execution_count": 22,
   "metadata": {},
   "outputs": [],
   "source": [
    "messeges = stop_word_remove(features)"
   ]
  },
  {
   "cell_type": "code",
   "execution_count": 23,
   "metadata": {},
   "outputs": [],
   "source": [
    "total_words = pd.Series(total_words)"
   ]
  },
  {
   "cell_type": "code",
   "execution_count": 24,
   "metadata": {},
   "outputs": [
    {
     "name": "stdout",
     "output_type": "stream",
     "text": [
      "0               go\n",
      "1           jurong\n",
      "2            point\n",
      "3            crazy\n",
      "4        available\n",
      "           ...    \n",
      "49489           us\n",
      "49490         free\n",
      "49491         rofl\n",
      "49492         true\n",
      "49493         name\n",
      "Length: 49494, dtype: object\n"
     ]
    }
   ],
   "source": [
    "print(total_words)"
   ]
  },
  {
   "cell_type": "code",
   "execution_count": 25,
   "metadata": {},
   "outputs": [
    {
     "data": {
      "text/plain": [
       "['go jurong point crazy available bugis great world la e buffet cine got amore wat',\n",
       " 'lar joking wif oni',\n",
       " 'free entry wkly comp win fa cup final tkts 21st may 2005 text fa 87121 receive entry questionstd txt ratetcs apply 08452810075over18s',\n",
       " 'dun say early hor c already say',\n",
       " 'nah think goes usf lives around though',\n",
       " 'freemsg hey darling 3 weeks word back id like fun still tb xxx std chgs send 150 rcv',\n",
       " 'even brother like speak treat like aids patent',\n",
       " 'per request melle melle oru minnaminunginte nurungu vettam set callertune callers press 9 copy friends callertune',\n",
       " 'winner valued network customer selected receivea 900 prize reward claim 09061701461 claim code kl341 valid 12 hours',\n",
       " 'mobile 11 months entitled update latest colour mobiles camera free mobile update co free 08002986030',\n",
       " 'gonna home soon want talk stuff anymore tonight k ive cried enough today',\n",
       " 'six chances win cash 100 20000 pounds txt csh11 send 87575 cost 150pday 6days 16 tsandcs apply reply hl info',\n",
       " 'urgent 1 week free membership 100000 prize jackpot txt word claim 81010 tc wwwdbuknet lccltd pobox 4403ldnw1a7rw18',\n",
       " 'ive searching right words thank breather promise wont take help granted fulfil promise wonderful blessing times',\n",
       " 'date sunday',\n",
       " 'xxxmobilemovieclub use credit click wap link next txt message click httpwap xxxmobilemovieclubcomnqjkgighjjgcbl',\n",
       " 'oh kim watching',\n",
       " 'eh remember spell name yes v naughty make v wet',\n",
       " 'fine thats way feel thats way gota b',\n",
       " 'england v macedonia  miss goalsteam news txt national team 87077 eg england 87077 trywales scotland 4txt120 poboxox36504w45wq 16',\n",
       " 'seriously spell name',\n",
       " 'going try months ha ha joking',\n",
       " ' pay first lar da stock comin',\n",
       " 'aft finish lunch go str ard 3 smth finish lunch already',\n",
       " 'ffffffffff alright way meet sooner',\n",
       " 'forced eat slice really hungry tho sucks mark getting worried knows sick turn pizza',\n",
       " 'always convincing',\n",
       " 'catch bus  frying egg  make tea eating moms left dinner  feel love ',\n",
       " 'back amp packing car ill let know theres room',\n",
       " 'ahhh work vaguely remember feel like',\n",
       " 'wait thats still clear sure sarcastic thats x doesnt want live us',\n",
       " 'yeah got v apologetic fallen actin like spoilt child got caught till wont go badly cheers',\n",
       " 'k tell anything',\n",
       " 'fear fainting housework quick cuppa',\n",
       " 'thanks subscription ringtone uk mobile charged 5month please confirm replying yes reply charged',\n",
       " 'yup go home look timings msg  xuhui going learn 2nd may lesson 8am',\n",
       " 'oops ill let know roommates done',\n",
       " 'see letter b car',\n",
       " 'anything decide',\n",
       " 'hello hows saturday go texting see youd decided anything tomo trying invite anything',\n",
       " 'pls go ahead watts wanted sure great weekend abiola',\n",
       " 'forget tell  want  need crave   love sweet arabian steed  mmmmmm  yummy',\n",
       " '07732584351  rodger burns  msg  tried reply sms free nokia mobile  free camcorder please 08000930705 delivery tomorrow',\n",
       " 'seeing',\n",
       " 'great hope like man well endowed ltgt inches',\n",
       " 'callsmessagesmissed calls',\n",
       " 'didnt get hep b immunisation nigeria',\n",
       " 'fair enough anything going',\n",
       " 'yeah hopefully tyler cant could maybe ask around bit',\n",
       " 'know stubborn didnt even want go hospital kept telling mark weak sucker hospitals weak suckers',\n",
       " 'thinked first time saw class',\n",
       " 'gram usually runs like ltgt  half eighth smarter though gets almost whole second gram ltgt',\n",
       " 'k fyi x ride early tomorrow morning hes crashing place tonight',\n",
       " 'wow never realized embarassed accomodations thought liked since best could always seemed happy cave sorry didnt give sorry offered sorry room embarassing',\n",
       " 'sms ac sptv new jersey devils detroit red wings play ice hockey correct incorrect end reply end sptv',\n",
       " 'know mallika sherawat yesterday find  lturlgt',\n",
       " 'congrats 1 year special cinema pass 09061209465 c suprman v matrix3 starwars3 etc free bx420ip45we 150pm miss',\n",
       " 'sorry ill later meeting',\n",
       " 'tell reached',\n",
       " 'yesgauti sehwag odi series',\n",
       " 'gonna pick 1 burger way home cant even move pain killing',\n",
       " 'ha ha ha good joke girls situation seekers',\n",
       " 'part checking iq',\n",
       " 'sorry roommates took forever come',\n",
       " 'lar double check wif da hair dresser already said wun cut v short said cut look nice',\n",
       " 'valued customer pleased advise following recent review mob awarded 1500 bonus prize 09066364589',\n",
       " 'today song dedicated day song dedicate send valuable frnds first rply',\n",
       " 'urgent awarded complimentary trip eurodisinc trav acoentry41 1000 claim txt dis 87121 186150morefrmmob shracomorsglsuplt10 ls1 3aj',\n",
       " 'hear new divorce barbie comes kens stuff',\n",
       " 'plane give month end',\n",
       " 'wah lucky man save money hee',\n",
       " 'finished class',\n",
       " 'hi babe home wanna something xx',\n",
       " 'kkwhere youhow performed',\n",
       " '',\n",
       " 'waiting machan free',\n",
       " 'thats cool gentleman treat dignity respect',\n",
       " 'like peoples much shy pa',\n",
       " 'operate ltgt',\n",
       " 'still looking job much tas earn',\n",
       " 'sorry ill later',\n",
       " 'k ah',\n",
       " 'way home hi hi',\n",
       " 'place man',\n",
       " 'yup next stop',\n",
       " 'later network urgnt sms',\n",
       " 'real getting yo need tickets one jacket done already used multis',\n",
       " 'yes started send requests make pain came back back bed double coins factory gotta cash nitros',\n",
       " 'really still tonight babe',\n",
       " 'ela kanoil download come wen free',\n",
       " 'yeah stand close tho youll catch something',\n",
       " 'sorry pain meet another night spent late afternoon casualty means havent done stuff42moro includes time sheets sorry',\n",
       " 'smile pleasure smile pain smile trouble pours like rain smile sum1 hurts smile becoz someone still loves see smiling',\n",
       " 'please customer service representative 0800 169 6031 10am9pm guaranteed 1000 cash 5000 prize',\n",
       " 'havent planning buy later check already lido got 530 show e afternoon finish work already',\n",
       " 'free ringtone waiting collected simply text password mix 85069 verify get usher britney fml po box 5249 mk17 92h 450ppw 16',\n",
       " 'watching telugu moviewat abt',\n",
       " 'see finish loads loans pay',\n",
       " 'hi wk  hols yes bit run forgot hairdressers appointment four need get home shower beforehand cause prob',\n",
       " 'see cup coffee animation',\n",
       " 'please text anymore nothing else say',\n",
       " 'okay name price long legal wen pick ave x ams xx',\n",
       " 'still looking car buy gone 4the driving test yet',\n",
       " 'per request melle melle oru minnaminunginte nurungu vettam set callertune callers press 9 copy friends callertune',\n",
       " 'wow youre right didnt mean guess gave boston men changed search location nyc something changed cuz signin page still says boston',\n",
       " 'umma life vava umma love lot dear',\n",
       " 'thanks lot wishes birthday thanks making birthday truly memorable',\n",
       " 'aight ill hit get cash',\n",
       " 'would ip address test considering computer isnt minecraft server',\n",
       " 'know grumpy old people mom like better lying always one play jokes',\n",
       " 'worry guess hes busy',\n",
       " 'plural noun research',\n",
       " 'going dinnermsg',\n",
       " 'wif cos like try new things scared dun like mah cos said loud',\n",
       " 'gent trying contact last weekends draw shows 1000 prize guaranteed 09064012160 claim code k52 valid 12hrs 150ppm',\n",
       " 'wa openin sentence formal anyway fine juz tt eatin much puttin weighthaha anythin special happened',\n",
       " 'entered cabin pa said  happy bday boss  felt special askd lunch lunch invited apartment went',\n",
       " 'winner specially selected receive 1000 holiday flights inc speak live operator claim 0871277810910pmin 18',\n",
       " 'goodo yes must speak friday  eggpotato ratio tortilla needed',\n",
       " 'hmmmy uncle informed hes paying school directly pls buy food',\n",
       " 'private 2004 account statement 07742676969 shows 786 unredeemed bonus points claim 08719180248 identifier code 45239 expires',\n",
       " 'urgent mobile awarded 2000 bonus caller prize 5903 final try contact landline 09064019788 box42wr29c 150ppm',\n",
       " 'new address applespairsall malarky',\n",
       " 'todays voda numbers ending 7548 selected receive 350 award match please 08712300220 quoting claim code 4041 standard rates app',\n",
       " 'going sao mu today done 12',\n",
       " ' predict wat time finish buying',\n",
       " 'good stuff',\n",
       " 'knowyetunde hasnt sent money yet sent text bother sending involve anything shouldnt imposed anything first place apologise',\n",
       " 'room',\n",
       " 'hey girl hope well del bak long time c give sum time lucyxx',\n",
       " 'kkhow much cost',\n",
       " 'home',\n",
       " 'dear tmorrowpls accomodate',\n",
       " 'first answer question',\n",
       " 'sunshine quiz wkly q win top sony dvd player know country algarve txt ansr 82277 150 sptyrone',\n",
       " 'want get laid tonight want real dogging locations sent direct mob join uks largest dogging network bt txting gravel 69888 nt ec2a 31pmsg150p',\n",
       " 'haf msn yijuehotmailcom',\n",
       " 'meet',\n",
       " 'check rooms befor activities',\n",
       " 'youll rcv msgs chat svc free hardcore services text go 69988 get nothing must age verify yr network  try',\n",
       " 'got c lazy type forgot  lect saw pouch like v nice',\n",
       " 'k text youre way',\n",
       " 'sir waiting mail',\n",
       " 'swt thought nver get tired little things lovable persons cozsomtimes little things occupy biggest part hearts gud ni8',\n",
       " 'know pls open back',\n",
       " 'yes see ya dot',\n",
       " 'whats staff name taking class us',\n",
       " 'freemsg havent replied text randy sexy female live local luv hear netcollex ltd 08700621170150p per msg reply stop end',\n",
       " 'ummmawill check inour life begin qatar pls pray hard',\n",
       " 'ki deleted contact',\n",
       " 'sindu got job birla soft ',\n",
       " 'wine flowing nevering',\n",
       " 'yup thk cine better cos need go plaza mah',\n",
       " 'typical reply',\n",
       " 'per request melle melle oru minnaminunginte nurungu vettam set callertune callers press 9 copy friends callertune',\n",
       " 'everywhere dirt floor windows even shirt sometimes open mouth comes flowing dream world without half chores time joy lots tv shows ill see guess like things must exist like rain hail mist time done become one',\n",
       " 'aaooooright work',\n",
       " 'leaving house',\n",
       " 'hello love get interview today happy good boy think meare missing ',\n",
       " 'customer service annoncement new years delivery waiting please 07046744435 arrange delivery',\n",
       " 'winner specially selected receive 1000 cash holiday flights inc speak live operator claim 0871277810810',\n",
       " 'keep safe need miss already envy everyone sees real life',\n",
       " 'new car house parentsi new job hand',\n",
       " 'love excited day spend make happy',\n",
       " 'pls stop bootydelious 32f inviting friend reply yes434 no434 see wwwsmsacubootydelious stop send stop frnd 62468',\n",
       " 'bangbabes order way receive service msg download content goto wap bangb tv mobile internetservice menu',\n",
       " 'place points e cultures module already',\n",
       " 'urgent trying contact last weekends draw shows 900 prize guaranteed 09061701939 claim code s89 valid 12hrs',\n",
       " 'hi frnd best way avoid missunderstding wit beloved ones',\n",
       " 'great escape fancy bridge needs lager see tomo',\n",
       " 'yes completely formclark also utter waste',\n",
       " 'sir need axis bank account bank address',\n",
       " 'hmmm thk sure got time hop ard ya go free abt muz discuss liao',\n",
       " 'time coming later',\n",
       " 'bloody hell cant believe forgot surname mr  ill give clue spanish begins',\n",
       " 'well gonna finish bath goodfine night',\n",
       " 'let know youve got money carlos make',\n",
       " 'still going mall',\n",
       " 'turns friends staying whole show wont back til  ltgt  feel free go ahead smoke  ltgt worth',\n",
       " 'text doesnt reply let know log',\n",
       " 'hi spoke maneesha v wed like know satisfied experience reply toll free yes',\n",
       " 'lifted hopes offer money need especially end month approaches hurts studying anyways gr8 weekend',\n",
       " 'trust',\n",
       " 'gentleman treat dignity respect',\n",
       " 'guys close',\n",
       " 'going nothing greatbye',\n",
       " 'hello handsome  finding job  lazy  working towards getting back net mummy  wheres boytoy  miss ',\n",
       " 'haha awesome minute',\n",
       " 'please customer service representative freephone 0808 145 4742 9am11pm guaranteed 1000 cash 5000 prize',\n",
       " 'got xmas radio times get',\n",
       " 'jus reached home go bathe first sis using net tell finishes k',\n",
       " 'unique enough find 30th august wwwareyouuniquecouk',\n",
       " 'sorry ive joined league people keep touch mean great deal friend times even great personal cost great week',\n",
       " 'hi finally completed course',\n",
       " 'stop however suggest stays someone able give ors every stool',\n",
       " 'hope youve settled new school year wishin gr8 day',\n",
       " 'gud mrng dear hav nice day',\n",
       " 'got persons story',\n",
       " 'hamster dead hey tmr meet 1pm orchard mrt',\n",
       " 'hi kate evening hope see tomorrow bit bloody babyjontet txt back  xxx',\n",
       " 'found enc ltgt ',\n",
       " 'sent ltgt bucks',\n",
       " 'hello darlin ive finished college txt finish love kate xxx',\n",
       " 'account refilled successfully inr ltdecimalgt  keralacircle prepaid account balance rs ltdecimalgt  transaction id kr ltgt ',\n",
       " 'goodmorning sleeping ga',\n",
       " 'alter 11',\n",
       " ' say like dat dun buy ericsson oso cannot oredi lar',\n",
       " 'entered cabin pa said  happy bday boss  felt special askd lunch lunch invited apartment went',\n",
       " 'aight yo dats straight dogg',\n",
       " 'please give us connection today ltdecimalgt refund bill',\n",
       " ' shoot big loads get ready',\n",
       " 'whats bruv hope great break rewarding semester',\n",
       " 'home always chat',\n",
       " 'kkgoodstudy well',\n",
       " 'yup  noe leh',\n",
       " 'sounds great home',\n",
       " 'finally match heading towards draw prediction',\n",
       " 'tired havent slept well past nights',\n",
       " 'easy ahsen got selected means good',\n",
       " 'take exam march 3',\n",
       " 'yeah think use gt atm register sure theres anyway help let know sure ready',\n",
       " 'prob take time',\n",
       " 'os called ubandu run without installing hard diskyou use os copy important files system give repair shop',\n",
       " 'sorry ill later',\n",
       " 'say leh course nothing happen lar say v romantic jus bit thk e nite scenery nice leh',\n",
       " '500 new mobiles 2004 must go txt nokia 89545  collect todayfrom 1 www4tcbiz 2optout 08718726270150gbpmtmsg18',\n",
       " 'would really appreciate need someone talk',\n",
       " 'meet dream partner soon career flyng start find free txt horo followed star sign e g horo aries',\n",
       " 'hey company elama po mudyadhu',\n",
       " 'life strict teacher bcoz teacher teaches lesson amp conducts exam life first conducts exam amp teaches lessons happy morning  ',\n",
       " 'dear good morning',\n",
       " 'get gandhipuram walk cross cut road right side ltgt street road turn first right',\n",
       " 'dear going rubber place',\n",
       " 'sorry battery died yeah',\n",
       " 'yeshere tv always available work place',\n",
       " 'text  meet someone sexy today find date even flirt join 10p reply name  age eg sam 25 18 msg recdthirtyeight pence',\n",
       " 'printed oh ltgt come upstairs',\n",
       " 'ill little closer like bus stop street',\n",
       " 'youwhen wil reach',\n",
       " 'new theory argument wins situation loses person argue friends    kick amp say always correct',\n",
       " '447801259231 secret admirer looking make contact ufind rreveal thinks specialcall 09058094597',\n",
       " 'tomarrow final hearing laptop case cant',\n",
       " 'pleassssssseeeeee tel v avent done sportsx',\n",
       " 'okay shining meant signing sounds better',\n",
       " 'although told dat baig face watches really like e watch gave cos fr thanx everything dat uve done today touched',\n",
       " 'remember old commercial',\n",
       " 'late said website didnt slippers',\n",
       " 'asked',\n",
       " 'kallis wont bat 2nd innings',\n",
       " 'didnt work oh goodnight ill fix ready time wake dearly missed good night sleep',\n",
       " 'congratulations awarded 500 cd vouchers 125gift guaranteed  free entry 100 wkly draw txt music 87066 tncs wwwldewcom1win150ppmx3age16',\n",
       " 'ranjith cal drpd deeraj deepak 5min hold',\n",
       " 'wen lovable bcums angry wid dnt take seriously coz angry childish true way showing deep affection care luv kettoda manda nice day da',\n",
       " 'doinghow',\n",
       " 'ups 3days also shipping company takes 2wks way usps takes week gets lag may bribe nipost get stuff',\n",
       " 'back lemme know youre ready',\n",
       " 'necessarily expect done get back though headin',\n",
       " 'mmm yummy babe  nice jolt suzy',\n",
       " 'lover  need ',\n",
       " 'tried contact reply offer video handset 750 anytime networks mins unlimited text camcorder reply 08000930705',\n",
       " 'parked next mini coming today think',\n",
       " 'yup',\n",
       " 'anyway going shopping cos sis done yet dun disturb liao',\n",
       " 'luton 0125698789 ring around h',\n",
       " 'hey really horny want chat see naked text hot 69698 text charged 150pm unsubscribe text stop 69698',\n",
       " 'dint come us',\n",
       " 'wana plan trip sometme',\n",
       " 'sure yet still trying get hold',\n",
       " 'ringtone service changed 25 free credits go club4mobilescom choose content stop txt club stop 87070 150pwk club4 po box1146 mk45 2wt',\n",
       " 'evo download flash jealous',\n",
       " 'ringtone club get uk singles chart mobile week choose top quality ringtone message free charge',\n",
       " 'come mu sorting narcotics situation',\n",
       " 'night ended another day morning come special way may smile like sunny rays leaves worries blue blue bay',\n",
       " 'hmv bonus special 500 pounds genuine hmv vouchers answer easy questions play send hmv 86688 infowww100percentrealcom',\n",
       " 'usf guess might well take 1 car',\n",
       " 'objection bf coming',\n",
       " 'thanx',\n",
       " 'tell rob mack gf theater',\n",
       " 'awesome ill see bit',\n",
       " 'sent type food like',\n",
       " 'done handed celebrations full swing yet',\n",
       " 'got called tool',\n",
       " 'wen miss someone person definitely special person special miss keepintouch gdeve',\n",
       " 'asked money far',\n",
       " 'okie',\n",
       " 'yeah think usual guys still passed last night get ahold anybody let know ill throw',\n",
       " 'k might come tonight class lets early',\n",
       " '',\n",
       " 'hi baby cruisin girl friend give hour home thats alright fone fone love jenny xxx',\n",
       " 'life means lot love life love people life world calls friends world ge',\n",
       " 'dearshall mail tonitebusy streetshall update tonitethings looking okvarunnathu edukkukayee raksha ollubut good one real sense',\n",
       " 'hey told name gautham ah',\n",
       " 'haf found feel stupid da v cam working',\n",
       " 'oops got bit',\n",
       " 'much buzy',\n",
       " 'accidentally deleted message resend please',\n",
       " 'tmobile customer may claim free camera phone upgrade  pay  go sim card loyalty 0845 021 3680offer ends 28thfebtcs apply',\n",
       " 'unless situation go gurl would appropriate',\n",
       " 'hurt tease make cry end life die plz keep one rose grave say stupid miss nice day bslvyl',\n",
       " 'cant pick phone right pls send message',\n",
       " 'need coffee run tomocant believe time week already',\n",
       " 'awesome remember last time got somebody high first time diesel v',\n",
       " 'shit really shocking scary cant imagine second def night think somewhere could crash night save taxi',\n",
       " 'oh way food fridge want go meal tonight',\n",
       " 'womdarfull actor',\n",
       " 'sms ac blind date 4u rodds1 21m aberdeen united kingdom check httpimg sms acwicmb3cktz8r74 blind dates send hide',\n",
       " 'yup remb think book',\n",
       " 'jos ask wana meet',\n",
       " 'yes friendship hanging thread cause wont buy stuff',\n",
       " 'themob check newest selection content games tones gossip babes sport keep mobile fit funky text wap 82468',\n",
       " 'garage keys arent bookshelf',\n",
       " 'today accept dayu accept brother sister lover dear1 best1 clos1 lvblefrnd jstfrnd cutefrnd lifpartnr belovd swtheart bstfrnd rply means enemy',\n",
       " 'think smart  win 200 week weekly quiz text play 85222 nowtcs winnersclub po box 84 m26 3uz 16 gbp150week',\n",
       " 'says hell give friends got money hes definitely buying end week',\n",
       " 'hi way 2day normal waythis real uniquei hope know rest mylife hope find wot lost',\n",
       " 'made day great day',\n",
       " 'kkadvance happy pongal',\n",
       " 'hmmm guess go kb power yoga haha dunno tahan power yoga anot thk got lo oso forgot liao',\n",
       " 'really dude friends afraid ',\n",
       " 'december mobile 11mths entitled update latest colour camera mobile free mobile update co free 08002986906',\n",
       " 'coffee cake guess',\n",
       " 'merry christmas babe love ya kisses',\n",
       " 'hey go watch x men lunch haha',\n",
       " 'cud tell ppl gona b bit l8 cos buses hav gon past cos full  still waitin 1 pete x',\n",
       " 'would great well guild could meet bristol road somewhere  get touch weekend plans take flight good week',\n",
       " 'problem',\n",
       " 'callsmessagesmissed calls',\n",
       " 'hi dahow todays class',\n",
       " 'id say thats good sign well know track record reading women',\n",
       " 'cool text youre parked',\n",
       " 'reading text sent meant joke read light',\n",
       " 'kkapo kgood movie',\n",
       " 'maybe could get book tomo return immediately  something',\n",
       " 'germany 1 pence per minute fixed line via access number 0844 861 85 85 prepayment direct access',\n",
       " 'chance might evaporated soon violated privacy stealing phone number employers paperwork cool please contact report supervisor',\n",
       " 'valentines day special win 1000 quiz take partner trip lifetime send go 83600 150pmsg rcvd custcare08718720201',\n",
       " 'tadaaaaa home babe still ',\n",
       " 'cool come havent wined dined',\n",
       " 'sleepingand surfing',\n",
       " 'sorry ill later',\n",
       " 'calling right hand phone',\n",
       " 'thats great thanx lot',\n",
       " 'take post come must 1000s texts happy reading one wiv hello caroline end favourite bless',\n",
       " 'hiding stranger',\n",
       " 'interested like',\n",
       " 'sister cleared two round birla soft yesterday',\n",
       " 'gudnitetcpractice going',\n",
       " 'dis yijue jus saw mail case huiming havent sent num dis num',\n",
       " 'one small prestige problem',\n",
       " 'fancy shag dointerested sextextukcom txt xxuk suzy 69876 txts cost 150 per msg tncs website x',\n",
       " 'checking really miss seeing jeremiah great month',\n",
       " 'nah cant help ive never iphone',\n",
       " 'youre car hour half going apeshit',\n",
       " 'today sorry day ever angry ever misbehaved hurt plz plz slap urself bcoz fault basically good',\n",
       " 'yo guys ever figure much need alcohol jay trying figure much safely spend weed',\n",
       " 'ltgt ish minutes 5 minutes ago wtf',\n",
       " 'thank callingforgot say happy onam sirjii fine remembered met insurance personmeet qatar insha allahrakhesh ex tata aig joined tisscotayseer',\n",
       " 'congratulations awarded 500 cd vouchers 125gift guaranteed  free entry 100 wkly draw txt music 87066 tncs wwwldewcom1win150ppmx3age16',\n",
       " 'cashbalance currently 500 pounds  maximize cashin send cash 86688 150pmsg cc 08708800282 hgsuite3422lands roww1j6hl',\n",
       " 'actor work work evening sleep late since unemployed moment always sleep late youre unemployed every day saturday',\n",
       " 'hello got st andrewsboy long way cold keep posted',\n",
       " 'ha ha cool cool chikku chikkudb',\n",
       " 'oh prob',\n",
       " 'check audreys status right',\n",
       " 'busy trying finish new year looking forward finally meeting',\n",
       " 'good afternoon sunshine dawns day  refreshed happy alive breathe air smile  think love  always',\n",
       " 'well know z take care worries',\n",
       " 'updatenow  xmas offer latest motorola sonyericsson  nokia  free bluetooth double mins  1000 txt orange mobileupd8 08000839402 call2optoutf4q',\n",
       " 'discount code rp176781 stop messages reply stop wwwregalportfoliocouk customer services 08717205546',\n",
       " 'wat uniform get',\n",
       " 'cool text youre ready',\n",
       " 'hello boytoy  geeee miss already woke wish bed cuddling love ',\n",
       " 'spoil bed well ',\n",
       " 'going bath msg next ltgt min',\n",
       " 'cant keep talking people sure pay agree price pls tell want really buy much willing pay',\n",
       " 'thanks ringtone order reference t91 charged gbp per week unsubscribe anytime calling customer services 09057039994',\n",
       " 'say happen',\n",
       " 'could seen mei didt recognise face',\n",
       " 'well theres lot things happening lindsay new years sighs bars ptbo blue heron something going',\n",
       " 'keep payasam rinu brings',\n",
       " 'taught ranjith sir called sms like becaus hes verifying project prabu told today pa mistake',\n",
       " 'guess thats worried must know theres way body repairs quite sure shouldnt worry well take slow first tests guide ovulation relax nothing youve said reason worry ill keep followin',\n",
       " 'yeah sure give couple minutes track wallet',\n",
       " 'hey leave big deal take care',\n",
       " 'hey late ah meet 945',\n",
       " 'double mins txts 6months free bluetooth orange available sony nokia motorola phones mobileupd8 08000839402 call2optoutn9dx',\n",
       " 'took mr owl 3 licks',\n",
       " 'customer place',\n",
       " 'mm time like fun',\n",
       " '4mths half price orange line rental  latest camera phones free phone 11mths  mobilesdirect free 08000938767 update or2stoptxt',\n",
       " 'yup lunch buffet eat already',\n",
       " 'huh late fr dinner',\n",
       " 'hey sat going intro pilates kickboxing',\n",
       " 'morning',\n",
       " 'yes think office lap room think thats last days didnt shut',\n",
       " 'pick bout 730ish time going',\n",
       " 'performance award calculated every two monthnot current one month period',\n",
       " 'actually sleeping still might back text gr8 rock sis send text wen wake',\n",
       " 'always putting business put pictures ass facebook one open people ive ever met would think picture room would hurt make feel violated',\n",
       " 'good evening sir al salam wahleykkumsharing happy newsby grace god got offer tayseertissco joinedhope fineinshah allahmeet sometimerakheshvisitor india',\n",
       " 'hmmmkbut want change field quickly dai wanna get system administrator network administrator',\n",
       " 'free ringtone text first 87131 poly text get 87131 true tone help 0845 2814032 16 1st free tones 3x150pw end txt stop',\n",
       " 'dear chechi talk',\n",
       " 'hair cream shipped',\n",
       " 'none thats happening til get though',\n",
       " 'yep great loxahatchee xmas tree burning ltgt starts hour',\n",
       " 'haha get used driving usf man know lot stoners',\n",
       " 'well slightly disastrous class pm fav darlings hope day coffee wld good cant stay late tomorrow time  place always',\n",
       " 'hello good week fancy drink something later',\n",
       " 'headin towards busetop',\n",
       " 'messagesome text missing sendername missing number missing sentdate missing missing lot thats everything missing sent via fullonsmscom',\n",
       " 'come room point iron plan weekend',\n",
       " 'cos want thing',\n",
       " 'okies ill go yan jiu skip ard oso go cine den go mrt one blah blah blah',\n",
       " 'bring home wendy',\n",
       " '100 dating service 09064012103 box334sk38ch',\n",
       " 'whatsup want sleep',\n",
       " 'alright new goal',\n",
       " 'free entry 250 weekly competition text word win 80086 18 tc wwwtxttowincouk',\n",
       " 'alright ill head minutes text meet',\n",
       " 'send logo lover  names joined heart txt love name1 name2 mobno eg love adam eve 07123456789 87077 yahoo pobox36504w45wq txtno ads 150p',\n",
       " 'yesfrom last week taking live',\n",
       " 'someone contacted dating service entered phone fancy find landline 09111032124  pobox12n146tf150p',\n",
       " 'siva hostel aha',\n",
       " 'urgent mobile number awarded 2000 prize guaranteed 09058094455 land line claim 3030 valid 12hrs',\n",
       " 'send friends receive something voice speaking expression 1childish 2naughty 3sentiment 4rowdy 5ful attitude 6romantic 7shy 8attractive 9funny ltgt irritating ltgt lovable reply',\n",
       " 'shell guess',\n",
       " 'aathiwhere dear',\n",
       " 'pain urination thing else',\n",
       " '7 esplanade  mind giving lift cos got car today',\n",
       " 'wnt buy bmw car urgentlyits vry urgentbut hv shortage ltgt lacsthere source arng dis amt ltgt lacsthats prob',\n",
       " 'home watching tv',\n",
       " 'usually take fifteen fucking minutes respond yes question',\n",
       " 'congrats nokia 3650 video camera phone 09066382422 calls cost 150ppm ave 3mins vary mobiles 16 close 300603 post bcm4284 ldn wc1n3xx',\n",
       " 'booked ticket pongal',\n",
       " 'available like right around hillsborough amp ltgt th',\n",
       " 'message sent askin ltgt dollars shoul pay ltgt ltgt ',\n",
       " 'ask g iouri ive told story like ten times already',\n",
       " 'long applebees fucking take',\n",
       " 'hi hope get txtjourney hasnt gdnow 50 mins late think',\n",
       " 'like love arrange',\n",
       " 'yeshe really greatbhaji told kallis best cricketer sachin worldvery tough get',\n",
       " 'supposed wake gt',\n",
       " 'oic saw tot din c found group liao',\n",
       " 'sorry ill later',\n",
       " 'hey hey werethe monkeespeople say monkeyaround howdy gorgeous howu doin foundurself jobyet sausagelove jen xxx',\n",
       " 'sorry battery died come getting gram wheres place',\n",
       " 'well done blimey exercise yeah kinda remember wot hmm',\n",
       " 'wont get concentration dear know mind everything ',\n",
       " ' made plans new years',\n",
       " '10 min later k',\n",
       " 'hanks lotsly',\n",
       " 'thanks hope good day today',\n",
       " 'kkwhat detail want transferacc enough',\n",
       " 'tell stay yeah tough optimistic things improve month',\n",
       " 'loan purpose 500  75000 homeowners  tenants welcome previously refused still help free 0800 1956669 text back help',\n",
       " 'si si think ill go make oreo truffles',\n",
       " 'look amy ure beautiful intelligent woman like lot know like like worry',\n",
       " 'hope thats result consistently intelligent kind start asking practicum links keep ears open best ttyl',\n",
       " '120 cost guess isnt bad miss ya need ya want ya love ya',\n",
       " 'going thru different feelingwavering decisions coping individualtime heal everything believe',\n",
       " 'go phone gonna die stay',\n",
       " 'great never better day gives even reasons thank god',\n",
       " 'upgrdcentre orange customer may claim free camera phone upgrade loyalty 0207 153 9153 offer ends 26th july tcs apply optout available',\n",
       " 'sorry ill later bye',\n",
       " 'way railway',\n",
       " 'great princess love giving receiving oral doggy style fave position enjoy making love ltgt times per night ',\n",
       " 'put stuff roads keep getting slippery',\n",
       " 'going ride bike',\n",
       " 'yup need ill jus wait e rain stop',\n",
       " 'many company tell language',\n",
       " 'okmail dear dave final notice collect tenerife holiday 5000 cash award 09061743806 landline tcs sae box326 cw25wx 150ppm',\n",
       " 'long since screamed princess',\n",
       " 'nothing meant money enters account bank remove flat rate someone transfered ltgt account ltgt dollars got removed banks differ charges also differbe sure trust 9ja person sending account details cos',\n",
       " 'want get laid tonight want real dogging locations sent direct mob join uks largest dogging network txting moan 69888nyt ec2a 31pmsg150p',\n",
       " 'nice line said broken heart plz cum 1 times infront wise trust good 9t',\n",
       " 'gonna head usf like fifteen minutes',\n",
       " 'love aathilove lot',\n",
       " 'tension ahwhat machiany problem',\n",
       " 'k pick another 8th youre done',\n",
       " 'whenre guys getting back g said thinking staying mcr',\n",
       " 'almost see sec',\n",
       " 'yo carlos friends already asking working weekend',\n",
       " 'watching tv',\n",
       " 'thank baby cant wait taste real thing',\n",
       " 'change fb jaykwon thuglyfe falconerf',\n",
       " 'win really 1 side long time',\n",
       " 'free message activate 500 free text messages replying message word free terms  conditions visit www07781482378com',\n",
       " 'dear reached railway happen',\n",
       " 'depends quality want type sent boye faded glory 6 want ralphs maybe',\n",
       " 'think ive fixed send test message',\n",
       " 'sorry man accounts dry would want could trade back half could buy shit credit card',\n",
       " 'congrats 1 year special cinema pass 09061209465 c suprman v matrix3 starwars3 etc free bx420ip45we 150pm miss',\n",
       " 'sorryin meeting ill later',\n",
       " 'class ltgt reunion',\n",
       " 'free nowcan',\n",
       " 'got meh',\n",
       " 'nope think go monday sorry replied late',\n",
       " 'told accenture confirm true',\n",
       " 'kate jackson rec center 7ish right',\n",
       " 'dear reache room',\n",
       " 'fighting world easy either win lose bt fightng some1 close dificult lose  lose win  still lose',\n",
       " ' come',\n",
       " 'check nuerologist',\n",
       " 'lolnice went fish water',\n",
       " '123 congratulations  weeks competition draw 1450 prize claim 09050002311 b4280703 tcsstop sms 08718727868 18 150ppm',\n",
       " 'waiting e car dats bored wat cos wait outside got nothing home stuff watch tv wat',\n",
       " 'maybe westshore hyde park village place near house',\n",
       " 'know hows anthony bringing money ive school fees pay rent stuff like thats need help friend need',\n",
       " 'whats significance',\n",
       " 'opinion 1 jada 3 kusruthi lovable 5 silent 6 spl character 7 matured 8 stylish 9 simple pls reply',\n",
       " '8 latest gs still scrounge ammo want give new ak try',\n",
       " 'prabhaim sorydarealyfrm heart sory',\n",
       " 'forgiven ',\n",
       " 'nojst change tat',\n",
       " 'guaranteed latest nokia phone 40gb ipod mp3 player 500 prize txt word collect 83355 ibhltd ldnw15h 150pmtmsgrcvd18',\n",
       " 'sno competition',\n",
       " 'boltblue tones 150p reply poly mono eg poly3 1 cha cha slide yeah 3 slow jamz 6 toxic 8 come stop tones txt',\n",
       " 'credits topped httpwwwbubbletextcom renewal pin tgxxrz',\n",
       " 'way transport less problematic sat night way want ask join bday feel free need know definite nos booking fri',\n",
       " 'usually person unconscious thats children adults may behave abnormally ill',\n",
       " 'thats ebay might less elsewhere',\n",
       " 'shall come get pickle',\n",
       " 'gonna go get tacos',\n",
       " 'thats rude campus',\n",
       " 'urgent mobile awarded 2000 bonus caller prize 020903 2nd attempt contact 08718729755 box95qu',\n",
       " 'hi wont b ard christmas enjoy merry xmas',\n",
       " 'todays offer claim 150 worth discount vouchers text yes 85023 savamob member offers mobile cs 08717898035 300 sub 16  unsub reply x',\n",
       " 'yes pretty lady like single',\n",
       " 'recieve tone within next 24hrs terms conditions please see channel teletext pg 750',\n",
       " 'jay says youre doublefaggot',\n",
       " 'private 2003 account statement 07815296484 shows 800 unredeemed sim points 08718738001 identifier code 41782 expires 181104',\n",
       " 'todaysundaysunday holidayso work',\n",
       " 'gudnitetcpractice going',\n",
       " 'ill late',\n",
       " 'ive called hoping l8r malaria know miss guys miss bani big pls give love especially great day',\n",
       " 'good afternoon love goes day  hope maybe got leads job think boytoy send passionate kiss across sea',\n",
       " 'probably gonna see later tonight lt',\n",
       " 'maybe fat fingers press buttons doesnt know',\n",
       " 'ummmmmaah many many happy returns day dear sweet heart happy birthday dear',\n",
       " 'tirupur da started office',\n",
       " 'wwwapplausestorecom monthlysubscription50pmsg max6month tcsc web age16 2stop txt stop',\n",
       " 'famous quote  develop ability listen anything unconditionally without losing temper self confidence means  married',\n",
       " 'going college pa else ill come self pa',\n",
       " 'oclock mine bash flat plan',\n",
       " 'girl stay bed girl doesnt need recovery time id rather pass fun cooped bed',\n",
       " 'special',\n",
       " 'know need get hotel got invitation apologise cali sweet come english blokes weddin',\n",
       " 'sorry took long omw',\n",
       " 'wait ltgt min',\n",
       " 'give 5 minutes think see btw youre alibi cutting hair whole time',\n",
       " 'imagine finally get sink bath put paces maybe even eat left  also imagine feel cage cock surrounded bath water reminding always owns  enjoy cuck',\n",
       " 'hurry ive weeddeficient like three days',\n",
       " 'sure get acknowledgement astoundingly tactless generally faggy demand blood oath fo',\n",
       " 'every night take warm bath drink cup milk youll see work magic still need loose weight know',\n",
       " 'ill look frying pan case cheap book perhaps thats silly frying pan isnt likely book',\n",
       " 'well uv causes mutations sunscreen like essential thesedays',\n",
       " 'lunchyou onlinewhy',\n",
       " 'know friend already told',\n",
       " 'hi princess thank pics pretty',\n",
       " 'aiyo always c ex one dunno abt mei reply first time reply fast lucky workin huh got bao sugardad ahgee',\n",
       " 'hi msg meim office',\n",
       " 'thanx e brownie v nice',\n",
       " 'geeeee  love much barely stand',\n",
       " 'gent trying contact last weekends draw shows 1000 prize guaranteed 09064012160 claim code k52 valid 12hrs 150ppm',\n",
       " 'fuck babe  miss already know  cant let send money towards net  need  want  crave ',\n",
       " 'ill 2mrw ninish address icky american freek wont stop callin bad jen k eh',\n",
       " 'oooh bed ridden ey thinking',\n",
       " 'anyways go gym whatever love smiles hope good day babe  miss much already',\n",
       " 'love daddy make scream pleasure going slap ass dick',\n",
       " 'wot wanna missy',\n",
       " 'yar wait mum finish sch lunch whole morning stay home clean room room quite clean hee',\n",
       " 'know lab goggles went',\n",
       " 'open door',\n",
       " 'waiting',\n",
       " 'nope waiting sch daddy',\n",
       " '1000 cash 2000 prize claim call09050000327',\n",
       " 'tired arguing week week want ill',\n",
       " ' wait sch finish ard 5',\n",
       " 'mobile number 5000 claim calls us back ring claims hot line 09050005321',\n",
       " 'arngd marriage walkin unfortuntly snake bites bt love marriage dancing frnt snake amp sayin bite bite',\n",
       " 'huh early  dinner outside izzit',\n",
       " 'anyway need change said',\n",
       " 'tried contact reply offer 750 mins 150 textand new video phone 08002988890 reply free delivery tomorrow',\n",
       " 'exwife able kids want kids one day',\n",
       " 'hows scotland hope showing jjc tendencies take care live dream',\n",
       " 'tell headache want use 1 hour sick time',\n",
       " 'dun thk ill quit yet hmmm go jazz  yogasana oso go meet em lessons den',\n",
       " 'pete please ring meive hardly gotany credit',\n",
       " 'ya srsly better yi tho',\n",
       " 'meeting later',\n",
       " 'chance win 250 wkly shopping spree txt shop 80878 tscs wwwtxt2shopcom custcare 08715705022 1x150pwk',\n",
       " 'specially selected receive 2000 pound award 08712402050 lines close cost 10ppm 16 tcs apply ag promo',\n",
       " 'private 2003 account statement 07753741225 shows 800 unredeemed points 08715203677 identifier code 42478 expires 241004',\n",
       " 'still grand prix',\n",
       " 'met stranger choose friend long world stands friendship never ends lets friends forever gud nitz',\n",
       " 'great',\n",
       " 'gud mrng dear nice day',\n",
       " 'important customer service announcement freephone 0800 542 0825',\n",
       " 'exhausted train morning much wine pie sleep well',\n",
       " 'going buy mums present ar',\n",
       " 'mind blastin tsunamis occur rajnikant stopped swimming indian oceand',\n",
       " 'sending home first ready yet',\n",
       " 'speaking cash yet',\n",
       " 'happy come noon',\n",
       " 'meet lunch la',\n",
       " 'take care get well soon',\n",
       " 'xclusiveclubsaisai 2morow 285 soiree speciale zouk nichols parisfree roses ladies  info 0794674629107880867867',\n",
       " 'meant say cant wait see getting bored bridgwater banter',\n",
       " 'neva mind',\n",
       " 'fine imma get drink somethin want come find',\n",
       " '22 days kick euro2004 kept date latest news results daily removed send get txt stop 83222',\n",
       " 'valentine game   send dis msg friends  5 answers someone really loves ques colour suits bestrply',\n",
       " 'many dependents',\n",
       " 'thanx4 today cer nice catch ave find time often oh well take care c soonc',\n",
       " 'called said himthen choose future',\n",
       " 'happy valentines day know early hundreds handsomes beauties wish thought finish aunties uncles 1st',\n",
       " 'like v shock leh cos telling shuhui like telling leona also like dat almost know liao got ask abt reaction',\n",
       " 'family happiness',\n",
       " 'come pick  come immediately aft lesson',\n",
       " 'let snow let snow kind weather brings ppl together friendships grow',\n",
       " 'dear got ltgt dollars hi hi',\n",
       " 'good words words may leave dismay many times',\n",
       " 'make sure alex knows birthday fifteen minutes far youre concerned',\n",
       " 'sorry got things may pub later',\n",
       " 'nah straight bring bud drinks something thats actually little useful straight cash',\n",
       " 'haha good hear officially paid market 8th',\n",
       " 'many licks take get center tootsie pop',\n",
       " 'yup thk e teacher said make face look longer darren ask cut short',\n",
       " 'new textbuddy chat horny guys area 25p free receive search postcode gaytextbuddycom txt one name 89693',\n",
       " 'todays vodafone numbers ending 4882 selected receive 350 award number matches 09064019014 receive 350 award',\n",
       " 'please say like hi hi hi',\n",
       " 'thank',\n",
       " 'oh forwarded message thought send',\n",
       " 'got seventeen pounds seven hundred ml  hope',\n",
       " 'dear voucher holder claim weeks offer pc go httpwwwetlpcoukexpressoffer tscs apply2 stop texts txt stop 80062',\n",
       " 'funny',\n",
       " 'sweetheart hope kind day one loads reasons smile biola',\n",
       " ' login dat time dad fetching  home',\n",
       " 'shower baby',\n",
       " 'askd question hours answer',\n",
       " 'well imma definitely need restock thanksgiving ill let know',\n",
       " 'said kiss kiss cant sound effects gorgeous man isnt kind person needs smile brighten day',\n",
       " 'probably gonna swing wee bit',\n",
       " 'ya nice  ready thursday',\n",
       " 'allo braved buses taken trains triumphed mean bham jolly good rest week',\n",
       " 'watching cartoon listening music amp eve go temple amp church',\n",
       " 'mind ask happened say uncomfortable',\n",
       " 'private 2003 account statement shows 800 unredeemed points 08715203694 identifier code 40533 expires 311004',\n",
       " 'prob send email',\n",
       " '1000 cash 2000 prize claim call09050000327 tc rstm sw7 3ss 150ppm',\n",
       " 'thats cool sometimes slow gentle sonetimes rough hard ',\n",
       " 'gonna say sorry would normal starting panic time sorry seeing tuesday',\n",
       " 'wait know wesleys town bet hella drugs',\n",
       " 'fine miss much',\n",
       " 'got persons story',\n",
       " 'tell drug dealers getting impatient',\n",
       " 'sun cant come earth send luv rays cloud cant come river send luv rain cant come meet send care msg gud evng',\n",
       " 'place man',\n",
       " 'doesnt make sense take unless free need know wikipediacom',\n",
       " '88800 89034 premium phone services 08718711108',\n",
       " 'sea lays rock rock envelope envelope paper paper 3 words ',\n",
       " 'mums repent',\n",
       " 'sorry going home first daddy come fetch  later',\n",
       " 'leave de start prepare next',\n",
       " 'yes baby study positions kama sutra ',\n",
       " 'en chikku nange bakra msg kalstiyathen teacoffee',\n",
       " 'carlosll minute still need buy',\n",
       " 'pay ltdecimalgt lakhs',\n",
       " 'good evening ttyl',\n",
       " 'receive msg',\n",
       " 'ho ho  big belly laugh see ya tomo',\n",
       " 'sms ac sun0819 posts helloyou seem cool wanted say hi hi stop send stop 62468',\n",
       " 'get 1st ringtone free reply msg tone gr8 top 20 tones phone every week 150 per wk opt send stop 08452810071 16',\n",
       " 'ditto wont worry saying anything anymore like said last night whatever want ill peace',\n",
       " 'ive got ltgt  way could pick',\n",
       " 'knw pa drink milk',\n",
       " 'maybe say hi find got card great escape wetherspoons',\n",
       " 'piggy awake bet ure still sleeping going lunch',\n",
       " 'cause freaky',\n",
       " 'missed cause yelling scrappy miss cant wait come home lonely today',\n",
       " 'hex place talk explain',\n",
       " ' log wat sdryb8i',\n",
       " 'xy going e lunch',\n",
       " 'hi sue 20 years old work lapdancer love sex text live  bedroom text sue 89555 textoperator g2 1da 150ppmsg 18',\n",
       " 'wanted ask  wait finish lect cos lect finishes hour anyway',\n",
       " 'finished work yet ',\n",
       " 'every king crying baby every great building map imprtant today wil reach tomorw gud ni8',\n",
       " 'dearme cherthalain case coming cochin pls bfore starti shall also reach accordinglyor tell day comingtmorow engaged ans holiday',\n",
       " 'thanks love torch bold',\n",
       " 'forwarded 448712404000please 08712404000 immediately urgent message waiting',\n",
       " 'farm open',\n",
       " 'sorry trouble buy 4d dad 1405 1680 1843 big 1 small sat sun thanx',\n",
       " 'sister law hope great month saying hey abiola',\n",
       " 'purchase stuff today mail po box number',\n",
       " 'ah poop looks like ill prob send laptop get fixed cuz gpu problem',\n",
       " 'good good job like entrepreneurs',\n",
       " 'aight close still around alexs place',\n",
       " 'meet corporation st outside gap  see mind working',\n",
       " 'mum ask  buy food home',\n",
       " 'ku also msg reply msg',\n",
       " 'much  willing pay',\n",
       " 'sorry ill later',\n",
       " 'important prevent dehydration giving enough fluids',\n",
       " 'thats bit weird even  supposed happening good idea sure pub',\n",
       " 'true deari sat pray evening felt soso smsd time',\n",
       " 'think get away trek long family town sorry',\n",
       " 'wanna gym harri',\n",
       " 'quite late lar ard 12 anyway wun b drivin',\n",
       " 'review keep fantastic nokia ngage game deck club nokia go wwwcnupdatescomnewsletter unsubscribe alerts reply word',\n",
       " '4mths half price orange line rental  latest camera phones free phone 11mths mobilesdirect free 08000938767 update or2stoptxt tcs',\n",
       " 'height confidence aeronautics professors wer calld amp wer askd sit aeroplane aftr sat wer told dat plane ws made students dey hurried plane bt 1 didnt move saidif made studentsthis wont even start datz confidence',\n",
       " 'seems like weird timing night g want come smoke day shitstorm attributed always coming making everyone smoke',\n",
       " '08714712388 10am7pm cost 10p',\n",
       " 'save stress person dorm account send account details money sent',\n",
       " 'also knows lunch menu da  know',\n",
       " 'stuff sell ill tell',\n",
       " '449071512431 urgent 2nd attempt contact uu 1250 09071512433 b4 050703 tcsbcm4235wc1n3xx callcost 150ppm mobilesvary max7 50',\n",
       " 'book lesson msg work sth going get specs membership px3748',\n",
       " 'guaranteed 1000 cash 2000 prize claim yr prize customer service representative 08714712394 10am7pm',\n",
       " 'macha feel upseti assume mindsetbelieve one evening wonderful plans uslet life begin againcall anytime',\n",
       " 'oh send address',\n",
       " 'sfine anytime best',\n",
       " 'wondar full flim',\n",
       " 'ya even cookies jelly',\n",
       " 'world running stillmaybe feeling sameso itor admiti madthen correctionor let lifeand keep running worldmay also runninglets run',\n",
       " 'got looks scrumptious daddy wants eat night long',\n",
       " 'cos lar ba dao 1 pm never ask go ah said would ask fri said ask today',\n",
       " 'alright omw gotta change order half8th',\n",
       " 'exactly anyways far jide study visiting',\n",
       " 'dunno ask',\n",
       " 'email alertfrom jeri stewartsize 2kbsubject lowcost prescripiton drvgsto listen email 123',\n",
       " 'didnt spring coming early yay',\n",
       " 'wont feel bad use money take steak dinner',\n",
       " 'even get trouble convincingjust tel twice tel neglect msgs c read itjust reply',\n",
       " 'leaving qatar tonite search opportunityall went fastpls add prayers dearrakhesh',\n",
       " 'one talking',\n",
       " 'thanks looking really appreciate',\n",
       " 'hi customer loyalty offerthe new nokia6650 mobile 10 txtauction txt word start 81151  get 4tctxt tc 150pmtmsg',\n",
       " 'wish',\n",
       " 'haha mayb ure rite know well da feeling liked someone gd faster go find one gals group attached liao',\n",
       " 'yes glad made',\n",
       " 'well little time thing good times ahead',\n",
       " 'got room soon  hadnt put clocks back til 8 shouted everyone get realised 7 wahay another hour bed',\n",
       " 'may free gym',\n",
       " 'men like shorter ladies gaze eyes',\n",
       " 'dunno jus say go lido time 930',\n",
       " 'promise take good care princess run please send pics get chance ttyl',\n",
       " 'subscribed best mobile content service uk 3 per 10 days send stop 82324 helpline 08706091795',\n",
       " 'reason weve spoken year anyways great week best exam',\n",
       " 'monday next week give full gist',\n",
       " 'realize 40 years well thousands old ladies running around tattoos',\n",
       " 'important customer service announcement premier',\n",
       " 'gimme lip caveboy',\n",
       " 'get library',\n",
       " 'realy sorryi recognise number confused  please',\n",
       " 'didnt holla',\n",
       " 'cant think anyone  spare room  top head',\n",
       " 'faith makes things possiblehope makes things worklove makes things beautifulmay three christmasmerry christmas',\n",
       " 'made appointment',\n",
       " 'youcarlos isare phones vibrate acting might hear texts',\n",
       " 'romantic paris nights flights 79 book next year 08704439680tscs apply',\n",
       " 'grandmas oh dear still ill felt shit morning think hungover another night leave sat',\n",
       " 'urgent 500 guaranteed award still unclaimed 09066368327 closingdate040902 claimcode m39m51 150pmmorefrommobile2bremovedmobypobox734ls27yf',\n",
       " 'nothing jus tot would ask cos ba gua went mt faber yest yest jus went already mah today going jus',\n",
       " 'wishing family merry x mas happy new year advance',\n",
       " 'awarded city break could win 200 summer shopping spree every wk txt store 88039  skilgme tscs087147403231winawkage16 150perwksub',\n",
       " 'nt goin got somethin unless meetin dinner haha wonder go tis time',\n",
       " 'sorry ill later',\n",
       " 'cant pick phone right pls send message',\n",
       " 'know theyre dramatic schools already closed tomorrow apparently cant drive inch snow supposed get',\n",
       " 'getting anywhere damn job hunting',\n",
       " 'drunkard hair moment yeah still tonight wats plan',\n",
       " 'idc get weaseling way shit twice row',\n",
       " 'wil ltgt minutes got space',\n",
       " 'sleepingand surfing',\n",
       " 'thanks picking trash',\n",
       " 'go tell friend youre sure want live smokes much spend hours begging come smoke',\n",
       " 'hi kate lovely see tonight ill phone tomorrow got sing guy gave card xxx',\n",
       " 'happy new year dear brother really miss got number decided send text wishing happiness abiola',\n",
       " 'means get door',\n",
       " 'opinion 1 jada 3 kusruthi lovable 5 silent 6 spl character 7 matured 8 stylish 9 simple pls reply',\n",
       " 'hmmm  thought said hours slave 3  late  punish ',\n",
       " 'beerage',\n",
       " 'important customer service announcement premier freephone 0800 542 0578',\n",
       " 'think turns like randomlly within 5min opening',\n",
       " 'supposed couldnt make shes still town though',\n",
       " 'time fixes spelling sometimes gets completely diff word go figure',\n",
       " 'ever thought living good life perfect partner txt back name age join mobile community 100psms',\n",
       " '5 free top polyphonic tones 087018728737 national rate get toppoly tune sent every week text subpoly 81618 3 per pole unsub 08718727870',\n",
       " 'gud mrng dear hav nice day',\n",
       " 'hoping enjoyed game yesterday sorry ive touch pls know fondly bein thot great week abiola',\n",
       " 'e best driving tmr ',\n",
       " 'ywhere dogbreath sounding like jan c thats al',\n",
       " 'omg want scream weighed lost weight woohoo',\n",
       " 'generally isnt one uncountable noun  dictionary pieces research',\n",
       " 'really getting hanging around',\n",
       " 'orange customer may claim free camera phone upgrade loyalty 0207 153 9996 offer ends 14thmarch tcs apply optout availa',\n",
       " 'petey boy whereare friendsare thekingshead come canlove nic',\n",
       " 'msg b4 leave house',\n",
       " 'gimme ltgt minutes ago',\n",
       " 'last chance claim 150 worth discount vouchers today text shop 85023 savamob offers mobile cs savamob pobox84 m263uz 300 sub 16',\n",
       " 'appt lttimegt fault listen told twice',\n",
       " 'free 1st week no1 nokia tone mobile every week txt nokia 8077 get txting tell mates wwwgetzedcouk pobox 36504 w45wq 16 norm150ptone',\n",
       " 'guaranteed 200 award even 1000 cashto claim award free 08000407165 18 stop getstop 88222 php rg21 4jx',\n",
       " 'k ill',\n",
       " 'dled 3d imp',\n",
       " 'sure make sure knows aint smokin yet',\n",
       " 'boooo always work quit',\n",
       " 'taking half day leave bec well',\n",
       " 'ugh wanna get bed warm',\n",
       " 'ssnervous ltgt ',\n",
       " 'theres ring comes guys costumes gift future yowifes hint hint',\n",
       " 'congratulations awarded either 500 cd gift vouchers  free entry 100 weekly draw txt music 87066 tncs wwwldewcom1win150ppmx3age16',\n",
       " 'borrow bag',\n",
       " 'outbid simonwatson5120 shinco dvd plyr bid visit sms acsmsrewards end bid notifications reply end',\n",
       " 'wheres boytoy miss  happened',\n",
       " 'lots used ones babe model doesnt help youi bring hell match',\n",
       " 'also bringing galileo dobby',\n",
       " 'responding',\n",
       " 'boo babe enjoyin yourjob seemed b gettin well hunnyhope ure oktake care  illspeak 2u soonlots loveme xxxx',\n",
       " 'good afternoon starshine hows boytoy crave yet ache fuck  sips cappuccino miss babe teasing kiss',\n",
       " 'road cant txt',\n",
       " 'smsservices yourinclusive text credits pls goto wwwcomuknet login 3qxj9 unsubscribe stop extra charge help 08702840625comuk 220cm2 9ae',\n",
       " '25p alfie moons children need song mob tell m8s txt tone charity 8007 nokias poly charity polys zed 08701417012 profit charity',\n",
       " 'good evening ttyl',\n",
       " 'hmm  bits pieces  sighs ',\n",
       " 'hahahause brain dear',\n",
       " 'hey got mail',\n",
       " 'sorry light turned green meant another friend wanted ltgt worth may around',\n",
       " 'thanks yesterday sir wonderful hope enjoyed burial mojibiola',\n",
       " 'secret admirer reveal thinks special 09065174042 opt reply reveal stop 150 per msg recd cust care 07821230901',\n",
       " 'hi mate rv hav nice hol message 3 say hello coz havent sent 1 ages started driving stay roadsrvx',\n",
       " 'dear voucher holder claim weeks offer pc please go httpwwwetlpcoukexpressoffer tscs apply stop texts txt stop 80062',\n",
       " 'thank much skyped wit kz sura didnt get pleasure company hope good weve given ultimatum oh countin aburo enjoy message sent days ago',\n",
       " 'surely result offer',\n",
       " 'good morning dear great amp successful day',\n",
       " 'want 750 anytime network mins 150 text new video phone five pounds per week 08002888812 reply delivery tomorrow',\n",
       " 'sir late paying rent past months pay  ltgt charge felt would inconsiderate nag something give great cost thats didnt speak however recession wont able pay charge month hence askin well ahead months end please help thanks',\n",
       " 'tried contact offer new video phone 750 anytime network mins half price rental camcorder 08000930705 reply delivery wed',\n",
       " 'last chance claim 150 worth discount voucherstext yes 85023 nowsavamobmember offers mobile cs 08717898035 300 sub 16  remove txt x stop',\n",
       " 'luv soo much understand special ring 2morrow luv xxx',\n",
       " 'pls send comprehensive mail paying much',\n",
       " 'prashanthettans mother passed away last night pray family',\n",
       " 'urgent 09066350750 landline complimentary ibiza holiday 10000 cash await collection sae tcs po box 434 sk3 8wp 150 ppm 18',\n",
       " 'kkwhen going',\n",
       " 'meanwhile shit suite xavier decided give us ltgt seconds warning samantha coming playing jays guitar impress shit also think doug realizes live anymore',\n",
       " 'stomach thru much trauma swear cant eat better lose weight',\n",
       " 'officewhats mattermsg nowi break',\n",
       " 'yeah theres barely enough room two us x many fucking shoes sorry man see later',\n",
       " 'todays offer claim 150 worth discount vouchers text yes 85023 savamob member offers mobile cs 08717898035 300 sub 16  unsub reply x',\n",
       " 'reach orchard already wan go buy tickets first',\n",
       " 'real baby want bring inner tigress',\n",
       " 'da run activate full version da',\n",
       " 'ah poor babyhope urfeeling bettersn luv probthat overdose work hey go careful spk sn lots lovejen xxx',\n",
       " 'stop story ive told ive returned hes saying order',\n",
       " 'talk sexy make new friends fall love worlds discreet text dating service text vip 83110 see could meet',\n",
       " 'going take babe ',\n",
       " 'hai ana tomarrow coming morning ltdecimalgt ill sathy go rto office reply came home',\n",
       " 'spoons okay',\n",
       " 'say somebody named tampa',\n",
       " 'work going min',\n",
       " 'brother genius',\n",
       " 'sorry guess whenever get hold connections maybe hour two ill text',\n",
       " 'find time bus coz need sort stuff',\n",
       " 'dude ive seeing lotta corvettes lately',\n",
       " 'congratulations awarded either yrs supply cds virgin records mystery gift guaranteed 09061104283 tscs wwwsmsconet 150pm approx 3mins',\n",
       " 'consider walls bunkers shit important never play peaceful guess place high enough matter',\n",
       " 'private 2003 account statement 07808 xxxxxx shows 800 unredeemed points 08719899217 identifier code 41685 expires 071104',\n",
       " 'hello need posh birds chaps user trial prods champneys put need address dob asap ta',\n",
       " 'want xmas 100 free text messages  new video phone half price line rental free 0800 0721072 find',\n",
       " 'well officially philosophical hole wanna home ready saved',\n",
       " 'going goodno problembut still need little experience understand american customer voice',\n",
       " 'ill text drop x',\n",
       " 'ugh long day exhausted want cuddle take nap',\n",
       " 'talk atleast day otherwise miss best friend world shakespeare shesil ltgt',\n",
       " 'shop till drop either 10k 5k 500 cash 100 travel voucher 09064011000 ntt po box cr01327bt fixedline cost 150ppm mobile vary',\n",
       " 'castor need see something',\n",
       " 'sunshine quiz wkly q win top sony dvd player know country liverpool played mid week txt ansr 82277 150 sptyrone',\n",
       " 'secret admirer looking make contact ufind rreveal thinks specialcall 09058094565',\n",
       " 'secret admirer looking make contact ufind rreveal thinks specialcall 09065171142stopsms08',\n",
       " 'reminder downloaded content already paid goto httpdoit mymoby tv collect content',\n",
       " 'see knew giving break times woul lead always wanting miss curfew gonna gibe til one midnight movie gonna get til need come home need getsleep anything need b studdying ear training',\n",
       " 'love give massages use lots baby oil fave position',\n",
       " 'dude go sup',\n",
       " 'yoyyooo know change permissions drive mac usb flash drive',\n",
       " 'gibbs unsoldmike hussey',\n",
       " 'like talk pa able know',\n",
       " 'dun cut short leh dun like ah failed shes quite sad',\n",
       " 'unbelievable faglord',\n",
       " 'wifehow knew time murder exactly',\n",
       " 'ask princess',\n",
       " 'great princess thinking ',\n",
       " 'nutter cutter ctter cttergg cttargg ctargg ctagg ie',\n",
       " 'noe ure busy really bored msg oso dunno wat colour choose one',\n",
       " 'doesnt g class early tomorrow thus shouldnt trying smoke ltgt',\n",
       " 'superb thought grateful everything want means still opportunity happier tomorrow today',\n",
       " 'hope good week checking',\n",
       " 'used hope agents drop since ive booked things year whole boston nyc experiment',\n",
       " 'thursday night yeah sure thing well work',\n",
       " 'free ringtone waiting collected simply text password mix 85069 verify get usher britney fml po box 5249 mk17 92h 450ppw 16',\n",
       " 'probably money worries things coming due several outstanding invoices work two three months ago',\n",
       " 'possible teach',\n",
       " 'wonder phone battery went dead  tell love babe',\n",
       " 'lovely smell bus aint tobacco',\n",
       " 'getting worried derek taylor already assumed worst',\n",
       " 'hey whats charles sorry late reply',\n",
       " 'lastest stereophonics marley dizzee racal libertines strokes win nookii games flirt click themob wap bookmark text wap 82468',\n",
       " 'ill give plus said grinule greet whenever speak',\n",
       " 'white fudge oreos stores',\n",
       " 'january male sale hot gay chat cheaper 08709222922 national rate 15pmin cheap 78pmin peak stop texts 08712460324 10pmin',\n",
       " 'love  come took long leave zahers got words ym happy see sad left miss',\n",
       " 'sorry hurt',\n",
       " 'cant feel nauseous pissed didnt eat sweets week cause today planning pig dieting week hungry ',\n",
       " 'early still project meeting',\n",
       " 'da waiting',\n",
       " 'could ask carlos could get anybody else chip',\n",
       " 'actually send reminder today wonderful weekend',\n",
       " 'people see msgs think iam addicted msging wrong bcoz know iam addicted sweet friends bslvyl',\n",
       " 'hey gave photo registered driving ah tmr wanna meet yck',\n",
       " 'talk ever word',\n",
       " 'wana see',\n",
       " 'way school pls send ashleys number',\n",
       " 'shall fine avalarr hollalater',\n",
       " 'went attend another two rounds todaybut still didt reach home',\n",
       " 'actually deleted old websitenow blogging magicalsongsblogspotcom',\n",
       " 'k wait chikkuil send aftr ltgt mins',\n",
       " 'diet ate 1 many slices pizza yesterday ugh always diet',\n",
       " 'ki give kvb acc details',\n",
       " 'oh come ah',\n",
       " 'money lucky winner  claim prize text money 88600 1million give away  ppt150x3normal text rate box403 w1t1jy',\n",
       " 'really sorry wont b able fridayhope find alternativehope yr terms going',\n",
       " 'congratulations ore mo owo wa enjoy wish many happy moments fro wherever go',\n",
       " 'samus shoulders yet',\n",
       " 'time think youll need know near campus',\n",
       " 'dear matthew please 09063440451 landline complimentary 4lux tenerife holiday 1000 cash await collection ppm150 sae tcs box334 sk38xh',\n",
       " 'dun wear jeans',\n",
       " 'since side fever vomitin',\n",
       " 'kkare college',\n",
       " 'urgent 09061749602 landline complimentary tenerife holiday 10000 cash await collection sae tcs box 528 hp20 1yf 150ppm 18',\n",
       " 'better made friday stuffed like pig yesterday feel bleh least writhing pain kind bleh',\n",
       " 'sell well tons coins sell coins someone thru paypal voila money back life pockets',\n",
       " 'theyre lots places hospitals medical places safe',\n",
       " 'getting touch folks waiting company txt back name age opt enjoy community 150psms',\n",
       " 'also ive sorta blown couple times recently id rather text blue looking weed',\n",
       " 'sent scores sophas secondary application schools think thinking applying research cost also contact joke ogunrinde school one less expensive ones',\n",
       " 'cant wait see photos useful ',\n",
       " 'cashbalance currently 500 pounds  maximize cashin send go 86688 150pmsg cc 08718720201 po box 11414 tcrw1',\n",
       " 'hey booked kb sat already lessons going ah keep sat night free need meet confirm lodging',\n",
       " 'chk belovd ms dict',\n",
       " 'time want come',\n",
       " 'awesome lemme know whenever youre around',\n",
       " 'shb b thanx',\n",
       " 'beautiful truth gravity read carefully heart feels light someone feels heavy someone leaves good night',\n",
       " 'also remember get dobbys bowl car',\n",
       " 'filthy stories girls waiting',\n",
       " 'sorry c msg yar poor thing one night tmr ull brand new room sleep',\n",
       " 'love isnt decision feeling could decide love life would much simpler less magical',\n",
       " 'welp apparently retired',\n",
       " 'sort code acc  bank natwest reply confirm ive sent right person',\n",
       " '',\n",
       " 'sure cant take sick time',\n",
       " 'urgent trying contact todays draw shows 800 prize guaranteed 09050001808 land line claim m95 valid12hrs',\n",
       " 'watching cartoon listening music amp eve go temple amp church',\n",
       " 'yo chad gymnastics class wanna take site says christians class full',\n",
       " 'much buzy',\n",
       " 'better still catch let ask sell ltgt',\n",
       " 'sure night menu   know noon menu',\n",
       " 'want come backa beautiful necklace token heart youthats give wife likingbe seeno one give thatdont mei wait till come',\n",
       " 'willing go aptitude class',\n",
       " 'wont b 215 trying sort house',\n",
       " 'yar wan go c horse racing today mah eat earlier ate chicken rice',\n",
       " 'haha awesome omw back',\n",
       " 'yup thk e shop closes',\n",
       " 'account number',\n",
       " 'eh send wrongly lar',\n",
       " 'hey ad crap nite borin without ya boggy boring biatch thanx wait til nxt time il ave ya',\n",
       " 'shall talk',\n",
       " 'hesitate know second time weakness like keep notebook eat day anything changed day sure nothing',\n",
       " 'hey pay salary de ltgt ',\n",
       " 'another month need chocolate weed alcohol',\n",
       " 'started searching get job dayshe great potential talent',\n",
       " 'reckon need town eightish walk  carpark',\n",
       " 'congrats mobile 3g videophones 09063458130 videochat wid mates play java games dload polyph music noline rentl',\n",
       " 'look fuckin time fuck think',\n",
       " 'yo guess dropped',\n",
       " 'carlos says hell mu ltgt minutes',\n",
       " 'office  ltgt min',\n",
       " 'geeee  miss already know  think fuck cant wait till next year together  loving kiss',\n",
       " 'yun ahthe ubi one say  wan tomorrowcall 67441233 look ireneere got bus822656166382 ubi cresubi tech park6ph 1st 5wkg daysn',\n",
       " 'ugh gotta drive back sd la butt sore',\n",
       " '26th july',\n",
       " 'hi relaxing time ever get 7am every day party good night get home tomorrow 5ish',\n",
       " '  wan come come din c stripes skirt',\n",
       " 'xmas story peace xmas msg love xmas miracle jesus hav blessed month ahead amp wish merry xmas',\n",
       " 'cant number',\n",
       " 'change e one next escalator',\n",
       " 'yetunde class run water make pls',\n",
       " 'lot happened feels quiet beth aunts charlie working lots helen mo',\n",
       " ' wait bus stop aft lect lar dun c  go get car come back pick ',\n",
       " ...]"
      ]
     },
     "execution_count": 25,
     "metadata": {},
     "output_type": "execute_result"
    }
   ],
   "source": [
    "messeges"
   ]
  },
  {
   "cell_type": "code",
   "execution_count": 27,
   "metadata": {},
   "outputs": [
    {
     "data": {
      "image/png": "[encoded data removed]",
      "text/plain": [
       "<Figure size 1200x800 with 1 Axes>"
      ]
     },
     "metadata": {
      "needs_background": "light"
     },
     "output_type": "display_data"
    }
   ],
   "source": [
    "plt.figure(dpi=200)\n",
    "total_words.value_counts()[:30].plot(kind='bar')\n",
    "plt.xticks(rotation=90)\n",
    "plt.show()"
   ]
  },
  {
   "cell_type": "code",
   "execution_count": 28,
   "metadata": {},
   "outputs": [],
   "source": [
    "from sklearn.feature_extraction.text import CountVectorizer"
   ]
  },
  {
   "cell_type": "code",
   "execution_count": 29,
   "metadata": {},
   "outputs": [],
   "source": [
    "vectorizer = CountVectorizer()"
   ]
  },
  {
   "cell_type": "code",
   "execution_count": 30,
   "metadata": {},
   "outputs": [],
   "source": [
    "features = pd.DataFrame({\n",
    "    'messeges': messeges\n",
    "})"
   ]
  },
  {
   "cell_type": "code",
   "execution_count": 31,
   "metadata": {},
   "outputs": [
    {
     "data": {
      "text/html": [
       "<div>\n",
       "<style scoped>\n",
       "    .dataframe tbody tr th:only-of-type {\n",
       "        vertical-align: middle;\n",
       "    }\n",
       "\n",
       "    .dataframe tbody tr th {\n",
       "        vertical-align: top;\n",
       "    }\n",
       "\n",
       "    .dataframe thead th {\n",
       "        text-align: right;\n",
       "    }\n",
       "</style>\n",
       "<table border=\"1\" class=\"dataframe\">\n",
       "  <thead>\n",
       "    <tr style=\"text-align: right;\">\n",
       "      <th></th>\n",
       "      <th>messeges</th>\n",
       "    </tr>\n",
       "  </thead>\n",
       "  <tbody>\n",
       "    <tr>\n",
       "      <th>0</th>\n",
       "      <td>go jurong point crazy available bugis great wo...</td>\n",
       "    </tr>\n",
       "    <tr>\n",
       "      <th>1</th>\n",
       "      <td>lar joking wif oni</td>\n",
       "    </tr>\n",
       "    <tr>\n",
       "      <th>2</th>\n",
       "      <td>free entry wkly comp win fa cup final tkts 21s...</td>\n",
       "    </tr>\n",
       "    <tr>\n",
       "      <th>3</th>\n",
       "      <td>dun say early hor c already say</td>\n",
       "    </tr>\n",
       "    <tr>\n",
       "      <th>4</th>\n",
       "      <td>nah think goes usf lives around though</td>\n",
       "    </tr>\n",
       "  </tbody>\n",
       "</table>\n",
       "</div>"
      ],
      "text/plain": [
       "                                            messeges\n",
       "0  go jurong point crazy available bugis great wo...\n",
       "1                                 lar joking wif oni\n",
       "2  free entry wkly comp win fa cup final tkts 21s...\n",
       "3                    dun say early hor c already say\n",
       "4             nah think goes usf lives around though"
      ]
     },
     "execution_count": 31,
     "metadata": {},
     "output_type": "execute_result"
    }
   ],
   "source": [
    "features.head(5)"
   ]
  },
  {
   "cell_type": "code",
   "execution_count": 32,
   "metadata": {},
   "outputs": [
    {
     "data": {
      "text/plain": [
       "CountVectorizer(analyzer='word', binary=False, decode_error='strict',\n",
       "                dtype=<class 'numpy.int64'>, encoding='utf-8', input='content',\n",
       "                lowercase=True, max_df=1.0, max_features=None, min_df=1,\n",
       "                ngram_range=(1, 1), preprocessor=None, stop_words=None,\n",
       "                strip_accents=None, token_pattern='(?u)\\\\b\\\\w\\\\w+\\\\b',\n",
       "                tokenizer=None, vocabulary=None)"
      ]
     },
     "execution_count": 32,
     "metadata": {},
     "output_type": "execute_result"
    }
   ],
   "source": [
    "vectorizer.fit(messeges)"
   ]
  },
  {
   "cell_type": "code",
   "execution_count": 33,
   "metadata": {},
   "outputs": [
    {
     "data": {
      "text/plain": [
       "9411"
      ]
     },
     "execution_count": 33,
     "metadata": {},
     "output_type": "execute_result"
    }
   ],
   "source": [
    "len(vectorizer.vocabulary_)"
   ]
  },
  {
   "cell_type": "code",
   "execution_count": 34,
   "metadata": {},
   "outputs": [],
   "source": [
    "features = vectorizer.transform(messeges)"
   ]
  },
  {
   "cell_type": "code",
   "execution_count": 36,
   "metadata": {},
   "outputs": [
    {
     "data": {
      "text/plain": [
       "(5572, 9411)"
      ]
     },
     "execution_count": 36,
     "metadata": {},
     "output_type": "execute_result"
    }
   ],
   "source": [
    "features.toarray().shape"
   ]
  },
  {
   "cell_type": "code",
   "execution_count": 37,
   "metadata": {},
   "outputs": [
    {
     "data": {
      "text/plain": [
       "0     ham\n",
       "1     ham\n",
       "2    spam\n",
       "3     ham\n",
       "4     ham\n",
       "Name: class, dtype: object"
      ]
     },
     "execution_count": 37,
     "metadata": {},
     "output_type": "execute_result"
    }
   ],
   "source": [
    "target.head()"
   ]
  },
  {
   "cell_type": "code",
   "execution_count": 38,
   "metadata": {},
   "outputs": [],
   "source": [
    "from sklearn.model_selection import train_test_split"
   ]
  },
  {
   "cell_type": "code",
   "execution_count": 40,
   "metadata": {},
   "outputs": [],
   "source": [
    "X_train, X_test, y_train, y_test = train_test_split(features, target, test_size=0.20)"
   ]
  },
  {
   "cell_type": "code",
   "execution_count": 41,
   "metadata": {},
   "outputs": [
    {
     "data": {
      "text/plain": [
       "ham     3834\n",
       "spam     623\n",
       "Name: class, dtype: int64"
      ]
     },
     "execution_count": 41,
     "metadata": {},
     "output_type": "execute_result"
    }
   ],
   "source": [
    "y_train.value_counts()"
   ]
  },
  {
   "cell_type": "code",
   "execution_count": 42,
   "metadata": {},
   "outputs": [
    {
     "data": {
      "text/plain": [
       "ham     991\n",
       "spam    124\n",
       "Name: class, dtype: int64"
      ]
     },
     "execution_count": 42,
     "metadata": {},
     "output_type": "execute_result"
    }
   ],
   "source": [
    "y_test.value_counts()"
   ]
  },
  {
   "cell_type": "code",
   "execution_count": 43,
   "metadata": {},
   "outputs": [],
   "source": [
    "from sklearn.naive_bayes import MultinomialNB"
   ]
  },
  {
   "cell_type": "code",
   "execution_count": 44,
   "metadata": {},
   "outputs": [],
   "source": [
    "model = MultinomialNB()"
   ]
  },
  {
   "cell_type": "code",
   "execution_count": 46,
   "metadata": {},
   "outputs": [
    {
     "data": {
      "text/plain": [
       "MultinomialNB(alpha=1.0, class_prior=None, fit_prior=True)"
      ]
     },
     "execution_count": 46,
     "metadata": {},
     "output_type": "execute_result"
    }
   ],
   "source": [
    "model.fit(X_train, y_train)"
   ]
  },
  {
   "cell_type": "code",
   "execution_count": 47,
   "metadata": {},
   "outputs": [],
   "source": [
    "pred = model.predict(X_test)"
   ]
  },
  {
   "cell_type": "code",
   "execution_count": 48,
   "metadata": {},
   "outputs": [
    {
     "data": {
      "text/plain": [
       "array(['ham', 'ham', 'ham', 'ham', 'ham'], dtype=object)"
      ]
     },
     "execution_count": 48,
     "metadata": {},
     "output_type": "execute_result"
    }
   ],
   "source": [
    "y_test[:5].to_numpy()"
   ]
  },
  {
   "cell_type": "code",
   "execution_count": 49,
   "metadata": {},
   "outputs": [
    {
     "data": {
      "text/plain": [
       "array(['ham', 'ham', 'ham', 'ham', 'ham'], dtype='<U4')"
      ]
     },
     "execution_count": 49,
     "metadata": {},
     "output_type": "execute_result"
    }
   ],
   "source": [
    "pred[:5]"
   ]
  },
  {
   "cell_type": "code",
   "execution_count": 50,
   "metadata": {},
   "outputs": [],
   "source": [
    "from sklearn import metrics"
   ]
  },
  {
   "cell_type": "code",
   "execution_count": 51,
   "metadata": {},
   "outputs": [
    {
     "name": "stdout",
     "output_type": "stream",
     "text": [
      "Accuracy Score:  97.58\n"
     ]
    }
   ],
   "source": [
    "print(\"Accuracy Score: \", round(metrics.accuracy_score(y_test, pred)*100, 2))"
   ]
  },
  {
   "cell_type": "code",
   "execution_count": 52,
   "metadata": {},
   "outputs": [
    {
     "name": "stdout",
     "output_type": "stream",
     "text": [
      "Confusion Matrix: \n",
      " [[973  18]\n",
      " [  9 115]]\n"
     ]
    }
   ],
   "source": [
    "print('Confusion Matrix: \\n', metrics.confusion_matrix(y_test, pred))"
   ]
  },
  {
   "cell_type": "code",
   "execution_count": 53,
   "metadata": {},
   "outputs": [],
   "source": [
    "new_messegs = [\n",
    "    \n",
    "    'free free free join today for free !@#^%',\n",
    "    'hey i need your help can you come over my house',\n",
    "    'lets check wheater i am spam or ham'\n",
    "]"
   ]
  },
  {
   "cell_type": "code",
   "execution_count": 55,
   "metadata": {},
   "outputs": [],
   "source": [
    "total_words = []\n",
    "def stop_word_remove(corpus, custom_stopwords=False):\n",
    "    \"\"\"\n",
    "        This function just iterate all documents from corpus and convert them into lowercase letters for case insensitivity\n",
    "        and also removes all stop words for documents\n",
    "    \"\"\"\n",
    "    if custom_stopwords:\n",
    "        stop_words = custom_stopwords\n",
    "    else:\n",
    "        stop_words = stopwords.words('english')\n",
    "    stop_words.extend(['u', '2', 'im', 'ur', 'dont', '4', 'r', 'n', 'lol', 'lor', 'call', 'ok', 'get' ])\n",
    "    processed_documents = []\n",
    "    for each_document in corpus:\n",
    "        each_document = each_document.strip().lower().split()\n",
    "        words = []\n",
    "        for word in each_document:\n",
    "            word = word.strip().lower()\n",
    "            new_word = []\n",
    "            for char in word:\n",
    "                if char not in punctuation and ord(char) < 130:\n",
    "                    new_word.append(char)\n",
    "            word = ''.join(new_word)\n",
    "            if word and word not in stop_words:\n",
    "                words.append(word)\n",
    "        processed_documents.append(' '.join(words))\n",
    "    return processed_documents  "
   ]
  },
  {
   "cell_type": "code",
   "execution_count": 56,
   "metadata": {},
   "outputs": [],
   "source": [
    "new_messegs = stop_word_remove(new_messegs)"
   ]
  },
  {
   "cell_type": "code",
   "execution_count": 57,
   "metadata": {},
   "outputs": [],
   "source": [
    "new_vectors = vectorizer.transform(new_messegs)"
   ]
  },
  {
   "cell_type": "code",
   "execution_count": 58,
   "metadata": {},
   "outputs": [
    {
     "name": "stdout",
     "output_type": "stream",
     "text": [
      "['free free free join today free', 'hey need help come house', 'lets check wheater spam ham']\n"
     ]
    }
   ],
   "source": [
    "print(new_messegs)"
   ]
  },
  {
   "cell_type": "code",
   "execution_count": 59,
   "metadata": {},
   "outputs": [
    {
     "name": "stdout",
     "output_type": "stream",
     "text": [
      "['spam' 'ham' 'ham']\n"
     ]
    }
   ],
   "source": [
    "print(model.predict(new_vectors))"
   ]
  },
  {
   "cell_type": "code",
   "execution_count": null,
   "metadata": {},
   "outputs": [],
   "source": []
  }
 ],
 "metadata": {
  "kernelspec": {
   "display_name": "Python 3",
   "language": "python",
   "name": "python3"
  },
  "language_info": {
   "codemirror_mode": {
    "name": "ipython",
    "version": 3
   },
   "file_extension": ".py",
   "mimetype": "text/x-python",
   "name": "python",
   "nbconvert_exporter": "python",
   "pygments_lexer": "ipython3",
   "version": "3.7.6"
  }
 },
 "nbformat": 4,
 "nbformat_minor": 4
}
